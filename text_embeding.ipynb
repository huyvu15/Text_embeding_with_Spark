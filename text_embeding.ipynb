{
  "nbformat": 4,
  "nbformat_minor": 0,
  "metadata": {
    "colab": {
      "provenance": []
    },
    "kernelspec": {
      "name": "python3",
      "display_name": "Python 3"
    },
    "language_info": {
      "name": "python"
    }
  },
  "cells": [
    {
      "cell_type": "code",
      "execution_count": 1,
      "metadata": {
        "colab": {
          "base_uri": "https://localhost:8080/"
        },
        "id": "YoHrjuook-v5",
        "outputId": "a87f215e-5e35-4856-e02f-832f71ced4ee"
      },
      "outputs": [
        {
          "output_type": "stream",
          "name": "stdout",
          "text": [
            "\u001b[2K     \u001b[90m━━━━━━━━━━━━━━━━━━━━━━━━━━━━━━━━━━━━━━━━\u001b[0m \u001b[32m212.4/212.4 MB\u001b[0m \u001b[31m4.4 MB/s\u001b[0m eta \u001b[36m0:00:00\u001b[0m\n",
            "\u001b[?25h  Preparing metadata (setup.py) ... \u001b[?25l\u001b[?25hdone\n",
            "\u001b[2K     \u001b[90m━━━━━━━━━━━━━━━━━━━━━━━━━━━━━━━━━━━━━━━━\u001b[0m \u001b[32m198.6/198.6 kB\u001b[0m \u001b[31m8.9 MB/s\u001b[0m eta \u001b[36m0:00:00\u001b[0m\n",
            "\u001b[?25h  Building wheel for pyspark (setup.py) ... \u001b[?25l\u001b[?25hdone\n"
          ]
        }
      ],
      "source": [
        "!pip install pyspark==3.1.2 -q\n",
        "!pip install findspark -q"
      ]
    },
    {
      "cell_type": "code",
      "source": [
        "import findspark\n",
        "findspark.init()\n",
        "\n",
        "from pyspark.sql import SparkSession\n",
        "from pyspark.sql.functions import rand\n",
        "#import tokenizer\n",
        "from pyspark.ml.feature import Tokenizer"
      ],
      "metadata": {
        "id": "9nXhZEz-lGbc"
      },
      "execution_count": 2,
      "outputs": []
    },
    {
      "cell_type": "code",
      "source": [
        "spark = SparkSession.builder.appName(\"Exercises - Feature Extraction and Transformation using Spark\").getOrCreate()"
      ],
      "metadata": {
        "id": "ZhkYvsYPlJIA"
      },
      "execution_count": 4,
      "outputs": []
    },
    {
      "cell_type": "code",
      "source": [
        "!wget https://cf-courses-data.s3.us.cloud-object-storage.appdomain.cloud/IBMSkillsNetwork-BD0231EN-Coursera/datasets/proverbs.csv\n"
      ],
      "metadata": {
        "colab": {
          "base_uri": "https://localhost:8080/"
        },
        "id": "N3lHBuVWlpKt",
        "outputId": "cfda2827-37aa-47bd-e86b-de2bd9a7d7ed"
      },
      "execution_count": 5,
      "outputs": [
        {
          "output_type": "stream",
          "name": "stdout",
          "text": [
            "--2024-05-14 10:12:13--  https://cf-courses-data.s3.us.cloud-object-storage.appdomain.cloud/IBMSkillsNetwork-BD0231EN-Coursera/datasets/proverbs.csv\n",
            "Resolving cf-courses-data.s3.us.cloud-object-storage.appdomain.cloud (cf-courses-data.s3.us.cloud-object-storage.appdomain.cloud)... 198.23.119.245\n",
            "Connecting to cf-courses-data.s3.us.cloud-object-storage.appdomain.cloud (cf-courses-data.s3.us.cloud-object-storage.appdomain.cloud)|198.23.119.245|:443... connected.\n",
            "HTTP request sent, awaiting response... 200 OK\n",
            "Length: 846 [text/csv]\n",
            "Saving to: ‘proverbs.csv’\n",
            "\n",
            "proverbs.csv        100%[===================>]     846  --.-KB/s    in 0s      \n",
            "\n",
            "2024-05-14 10:12:14 (153 MB/s) - ‘proverbs.csv’ saved [846/846]\n",
            "\n"
          ]
        }
      ]
    },
    {
      "cell_type": "code",
      "source": [
        "# Load proverbs dataset\n",
        "textdata = spark.read.csv(\"proverbs.csv\", header=True, inferSchema=True)"
      ],
      "metadata": {
        "id": "YAQ5AugXlskT"
      },
      "execution_count": 6,
      "outputs": []
    },
    {
      "cell_type": "code",
      "source": [
        "textdata.show(truncate = False)"
      ],
      "metadata": {
        "colab": {
          "base_uri": "https://localhost:8080/"
        },
        "id": "EMGRTWFolwop",
        "outputId": "122aeaaa-7e6c-47b9-cf77-75d56fa4dc8a"
      },
      "execution_count": 7,
      "outputs": [
        {
          "output_type": "stream",
          "name": "stdout",
          "text": [
            "+---+-----------------------------------------------------------+\n",
            "|id |text                                                       |\n",
            "+---+-----------------------------------------------------------+\n",
            "|1  |When in Rome do as the Romans do.                          |\n",
            "|2  |Do not judge a book by its cover.                          |\n",
            "|3  |Actions speak louder than words.                           |\n",
            "|4  |A picture is worth a thousand words.                       |\n",
            "|5  |If at first you do not succeed try try again.              |\n",
            "|6  |Practice makes perfect.                                    |\n",
            "|7  |An apple a day keeps the doctor away.                      |\n",
            "|8  |When the going gets tough the tough get going.             |\n",
            "|9  |All is fair in love and war.                               |\n",
            "|10 |Too many cooks spoil the broth.                            |\n",
            "|11 |You can not make an omelette without breaking eggs.        |\n",
            "|12 |The early bird catches the worm.                           |\n",
            "|13 |Better late than never.                                    |\n",
            "|14 |Honesty is the best policy.                                |\n",
            "|15 |A penny saved is a penny earned.                           |\n",
            "|16 |Two wrongs do not make a right.                            |\n",
            "|17 |The grass is always greener on the other side of the fence.|\n",
            "|18 |Do not count your chickens before they're hatched.         |\n",
            "|19 |Laughter is the best medicine.                             |\n",
            "|20 |Rome wasn't built in a day.                                |\n",
            "+---+-----------------------------------------------------------+\n",
            "only showing top 20 rows\n",
            "\n"
          ]
        }
      ]
    },
    {
      "cell_type": "code",
      "source": [
        "!wget https://cf-courses-data.s3.us.cloud-object-storage.appdomain.cloud/IBMSkillsNetwork-BD0231EN-Coursera/datasets/mpg.csv\n"
      ],
      "metadata": {
        "colab": {
          "base_uri": "https://localhost:8080/"
        },
        "id": "X98mkWxLlzr5",
        "outputId": "1c7f78ee-b31b-4c5b-fb30-6650f69e2e02"
      },
      "execution_count": 8,
      "outputs": [
        {
          "output_type": "stream",
          "name": "stdout",
          "text": [
            "--2024-05-14 10:12:55--  https://cf-courses-data.s3.us.cloud-object-storage.appdomain.cloud/IBMSkillsNetwork-BD0231EN-Coursera/datasets/mpg.csv\n",
            "Resolving cf-courses-data.s3.us.cloud-object-storage.appdomain.cloud (cf-courses-data.s3.us.cloud-object-storage.appdomain.cloud)... 169.63.118.104\n",
            "Connecting to cf-courses-data.s3.us.cloud-object-storage.appdomain.cloud (cf-courses-data.s3.us.cloud-object-storage.appdomain.cloud)|169.63.118.104|:443... connected.\n",
            "HTTP request sent, awaiting response... 200 OK\n",
            "Length: 13891 (14K) [text/csv]\n",
            "Saving to: ‘mpg.csv’\n",
            "\n",
            "mpg.csv             100%[===================>]  13.57K  --.-KB/s    in 0s      \n",
            "\n",
            "2024-05-14 10:12:56 (255 MB/s) - ‘mpg.csv’ saved [13891/13891]\n",
            "\n"
          ]
        }
      ]
    },
    {
      "cell_type": "code",
      "source": [
        "mpgdata = spark.read.csv(\"mpg.csv\", header=True, inferSchema=True)\n",
        "mpgdata.show()"
      ],
      "metadata": {
        "colab": {
          "base_uri": "https://localhost:8080/"
        },
        "id": "6RIzV0aNl1Cr",
        "outputId": "496d000a-5461-4720-f853-88a1195df4f3"
      },
      "execution_count": 9,
      "outputs": [
        {
          "output_type": "stream",
          "name": "stdout",
          "text": [
            "+----+---------+-----------+----------+------+----------+----+--------+\n",
            "| MPG|Cylinders|Engine Disp|Horsepower|Weight|Accelerate|Year|  Origin|\n",
            "+----+---------+-----------+----------+------+----------+----+--------+\n",
            "|15.0|        8|      390.0|       190|  3850|       8.5|  70|American|\n",
            "|21.0|        6|      199.0|        90|  2648|      15.0|  70|American|\n",
            "|18.0|        6|      199.0|        97|  2774|      15.5|  70|American|\n",
            "|16.0|        8|      304.0|       150|  3433|      12.0|  70|American|\n",
            "|14.0|        8|      455.0|       225|  3086|      10.0|  70|American|\n",
            "|15.0|        8|      350.0|       165|  3693|      11.5|  70|American|\n",
            "|18.0|        8|      307.0|       130|  3504|      12.0|  70|American|\n",
            "|14.0|        8|      454.0|       220|  4354|       9.0|  70|American|\n",
            "|15.0|        8|      400.0|       150|  3761|       9.5|  70|American|\n",
            "|10.0|        8|      307.0|       200|  4376|      15.0|  70|American|\n",
            "|15.0|        8|      383.0|       170|  3563|      10.0|  70|American|\n",
            "|11.0|        8|      318.0|       210|  4382|      13.5|  70|American|\n",
            "|10.0|        8|      360.0|       215|  4615|      14.0|  70|American|\n",
            "|15.0|        8|      429.0|       198|  4341|      10.0|  70|American|\n",
            "|21.0|        6|      200.0|        85|  2587|      16.0|  70|American|\n",
            "|17.0|        8|      302.0|       140|  3449|      10.5|  70|American|\n",
            "| 9.0|        8|      304.0|       193|  4732|      18.5|  70|American|\n",
            "|14.0|        8|      340.0|       160|  3609|       8.0|  70|American|\n",
            "|22.0|        6|      198.0|        95|  2833|      15.5|  70|American|\n",
            "|14.0|        8|      440.0|       215|  4312|       8.5|  70|American|\n",
            "+----+---------+-----------+----------+------+----------+----+--------+\n",
            "only showing top 20 rows\n",
            "\n"
          ]
        }
      ]
    },
    {
      "cell_type": "markdown",
      "source": [
        "# Task 1 - Tokenizer\n"
      ],
      "metadata": {
        "id": "gqun0rTDlUE8"
      }
    },
    {
      "cell_type": "code",
      "source": [
        "textdata.show(truncate = False)"
      ],
      "metadata": {
        "colab": {
          "base_uri": "https://localhost:8080/"
        },
        "id": "pFEAW5frl0Sx",
        "outputId": "78fba4a5-fdab-4e45-b4d6-6f2ac4b476aa"
      },
      "execution_count": 10,
      "outputs": [
        {
          "output_type": "stream",
          "name": "stdout",
          "text": [
            "+---+-----------------------------------------------------------+\n",
            "|id |text                                                       |\n",
            "+---+-----------------------------------------------------------+\n",
            "|1  |When in Rome do as the Romans do.                          |\n",
            "|2  |Do not judge a book by its cover.                          |\n",
            "|3  |Actions speak louder than words.                           |\n",
            "|4  |A picture is worth a thousand words.                       |\n",
            "|5  |If at first you do not succeed try try again.              |\n",
            "|6  |Practice makes perfect.                                    |\n",
            "|7  |An apple a day keeps the doctor away.                      |\n",
            "|8  |When the going gets tough the tough get going.             |\n",
            "|9  |All is fair in love and war.                               |\n",
            "|10 |Too many cooks spoil the broth.                            |\n",
            "|11 |You can not make an omelette without breaking eggs.        |\n",
            "|12 |The early bird catches the worm.                           |\n",
            "|13 |Better late than never.                                    |\n",
            "|14 |Honesty is the best policy.                                |\n",
            "|15 |A penny saved is a penny earned.                           |\n",
            "|16 |Two wrongs do not make a right.                            |\n",
            "|17 |The grass is always greener on the other side of the fence.|\n",
            "|18 |Do not count your chickens before they're hatched.         |\n",
            "|19 |Laughter is the best medicine.                             |\n",
            "|20 |Rome wasn't built in a day.                                |\n",
            "+---+-----------------------------------------------------------+\n",
            "only showing top 20 rows\n",
            "\n"
          ]
        }
      ]
    },
    {
      "cell_type": "code",
      "source": [
        "from pyspark.ml.feature import Tokenizer\n",
        "tokenizer = Tokenizer(inputCol=\"text\", outputCol=\"words\")\n",
        "textdata = tokenizer.transform(textdata)"
      ],
      "metadata": {
        "id": "XuGl9c5el0Wt"
      },
      "execution_count": 13,
      "outputs": []
    },
    {
      "cell_type": "code",
      "source": [
        "#display the tokenized data\n",
        "textdata.select(\"id\",\"words\").show(truncate=False)"
      ],
      "metadata": {
        "colab": {
          "base_uri": "https://localhost:8080/"
        },
        "id": "0IsxgSNBlTAY",
        "outputId": "90b8a487-fc4a-4c20-c628-8388d7daba61"
      },
      "execution_count": 14,
      "outputs": [
        {
          "output_type": "stream",
          "name": "stdout",
          "text": [
            "+---+------------------------------------------------------------------------+\n",
            "|id |words                                                                   |\n",
            "+---+------------------------------------------------------------------------+\n",
            "|1  |[when, in, rome, do, as, the, romans, do.]                              |\n",
            "|2  |[do, not, judge, a, book, by, its, cover.]                              |\n",
            "|3  |[actions, speak, louder, than, words.]                                  |\n",
            "|4  |[a, picture, is, worth, a, thousand, words.]                            |\n",
            "|5  |[if, at, first, you, do, not, succeed, try, try, again.]                |\n",
            "|6  |[practice, makes, perfect.]                                             |\n",
            "|7  |[an, apple, a, day, keeps, the, doctor, away.]                          |\n",
            "|8  |[when, the, going, gets, tough, the, tough, get, going.]                |\n",
            "|9  |[all, is, fair, in, love, and, war.]                                    |\n",
            "|10 |[too, many, cooks, spoil, the, broth.]                                  |\n",
            "|11 |[you, can, not, make, an, omelette, without, breaking, eggs.]           |\n",
            "|12 |[the, early, bird, catches, the, worm.]                                 |\n",
            "|13 |[better, late, than, never.]                                            |\n",
            "|14 |[honesty, is, the, best, policy.]                                       |\n",
            "|15 |[a, penny, saved, is, a, penny, earned.]                                |\n",
            "|16 |[two, wrongs, do, not, make, a, right.]                                 |\n",
            "|17 |[the, grass, is, always, greener, on, the, other, side, of, the, fence.]|\n",
            "|18 |[do, not, count, your, chickens, before, they're, hatched.]             |\n",
            "|19 |[laughter, is, the, best, medicine.]                                    |\n",
            "|20 |[rome, wasn't, built, in, a, day.]                                      |\n",
            "+---+------------------------------------------------------------------------+\n",
            "only showing top 20 rows\n",
            "\n"
          ]
        }
      ]
    },
    {
      "cell_type": "markdown",
      "source": [
        "# 2 - CountVectorizer\n",
        "CountVectorize the column \"words\" of the \"textdata\" dataframe and store the result in the column \"features\""
      ],
      "metadata": {
        "id": "cBFqsUCTmd22"
      }
    },
    {
      "cell_type": "code",
      "source": [
        "from pyspark.ml.feature import CountVectorizer\n",
        "\n",
        "cv = CountVectorizer(inputCol = 'words', outputCol=\"features\")\n",
        "\n",
        "model = cv.fit(textdata)\n",
        "textdata = model.transform(textdata)"
      ],
      "metadata": {
        "id": "b28ybZdZmVz8"
      },
      "execution_count": 15,
      "outputs": []
    },
    {
      "cell_type": "code",
      "source": [
        "# Show the resulting dataframe\n",
        "textdata.select(\"words\",\"features\").show(truncate=False)"
      ],
      "metadata": {
        "colab": {
          "base_uri": "https://localhost:8080/"
        },
        "id": "cJl5xcKGmflH",
        "outputId": "be253ac9-fec1-4ae1-81b5-fe4215dac3e7"
      },
      "execution_count": 16,
      "outputs": [
        {
          "output_type": "stream",
          "name": "stdout",
          "text": [
            "+------------------------------------------------------------------------+----------------------------------------------------------------------------+\n",
            "|words                                                                   |features                                                                    |\n",
            "+------------------------------------------------------------------------+----------------------------------------------------------------------------+\n",
            "|[when, in, rome, do, as, the, romans, do.]                              |(99,[0,4,5,6,17,38,78,95],[1.0,1.0,1.0,1.0,1.0,1.0,1.0,1.0])                |\n",
            "|[do, not, judge, a, book, by, its, cover.]                              |(99,[1,3,4,19,21,22,62,70],[1.0,1.0,1.0,1.0,1.0,1.0,1.0,1.0])               |\n",
            "|[actions, speak, louder, than, words.]                                  |(99,[9,16,58,66,89],[1.0,1.0,1.0,1.0,1.0])                                  |\n",
            "|[a, picture, is, worth, a, thousand, words.]                            |(99,[1,2,16,61,79,83],[2.0,1.0,1.0,1.0,1.0,1.0])                            |\n",
            "|[if, at, first, you, do, not, succeed, try, try, again.]                |(99,[3,4,11,13,26,40,49,69,75],[1.0,1.0,2.0,1.0,1.0,1.0,1.0,1.0,1.0])       |\n",
            "|[practice, makes, perfect.]                                             |(99,[23,24,52],[1.0,1.0,1.0])                                               |\n",
            "|[an, apple, a, day, keeps, the, doctor, away.]                          |(99,[0,1,7,33,41,46,73,91],[1.0,1.0,1.0,1.0,1.0,1.0,1.0,1.0])               |\n",
            "|[when, the, going, gets, tough, the, tough, get, going.]                |(99,[0,12,14,17,20,60,88],[2.0,2.0,1.0,1.0,1.0,1.0,1.0])                    |\n",
            "|[all, is, fair, in, love, and, war.]                                    |(99,[2,5,27,36,74,77,97],[1.0,1.0,1.0,1.0,1.0,1.0,1.0])                     |\n",
            "|[too, many, cooks, spoil, the, broth.]                                  |(99,[0,32,34,35,37,59],[1.0,1.0,1.0,1.0,1.0,1.0])                           |\n",
            "|[you, can, not, make, an, omelette, without, breaking, eggs.]           |(99,[3,7,13,15,44,55,56,68,93],[1.0,1.0,1.0,1.0,1.0,1.0,1.0,1.0,1.0])       |\n",
            "|[the, early, bird, catches, the, worm.]                                 |(99,[0,29,43,50,54],[2.0,1.0,1.0,1.0,1.0])                                  |\n",
            "|[better, late, than, never.]                                            |(99,[9,31,42,64],[1.0,1.0,1.0,1.0])                                         |\n",
            "|[honesty, is, the, best, policy.]                                       |(99,[0,2,10,39,98],[1.0,1.0,1.0,1.0,1.0])                                   |\n",
            "|[a, penny, saved, is, a, penny, earned.]                                |(99,[1,2,8,18,81],[2.0,1.0,2.0,1.0,1.0])                                    |\n",
            "|[two, wrongs, do, not, make, a, right.]                                 |(99,[1,3,4,15,57,67,84],[1.0,1.0,1.0,1.0,1.0,1.0,1.0])                      |\n",
            "|[the, grass, is, always, greener, on, the, other, side, of, the, fence.]|(99,[0,2,30,45,53,65,71,85,90,94],[3.0,1.0,1.0,1.0,1.0,1.0,1.0,1.0,1.0,1.0])|\n",
            "|[do, not, count, your, chickens, before, they're, hatched.]             |(99,[3,4,47,48,51,63,80,96],[1.0,1.0,1.0,1.0,1.0,1.0,1.0,1.0])              |\n",
            "|[laughter, is, the, best, medicine.]                                    |(99,[0,2,10,25,87],[1.0,1.0,1.0,1.0,1.0])                                   |\n",
            "|[rome, wasn't, built, in, a, day.]                                      |(99,[1,5,6,28,72,82],[1.0,1.0,1.0,1.0,1.0,1.0])                             |\n",
            "+------------------------------------------------------------------------+----------------------------------------------------------------------------+\n",
            "only showing top 20 rows\n",
            "\n"
          ]
        }
      ]
    },
    {
      "cell_type": "markdown",
      "source": [
        "# 3 - StringIndexer\n",
        "Convert the string column \"Origin\" to a numeric column \"OriginIndex\" in the dataframe \"mpgdata\""
      ],
      "metadata": {
        "id": "2VzfUsJ7nBKO"
      }
    },
    {
      "cell_type": "code",
      "source": [
        "from pyspark.ml.feature import StringIndexer\n",
        "indexer = StringIndexer(inputCol=\"Origin\", outputCol=\"OriginIndex\")\n",
        "indexed = indexer.fit(mpgdata).transform(mpgdata)"
      ],
      "metadata": {
        "id": "2fygZ4dhmfnq"
      },
      "execution_count": 17,
      "outputs": []
    },
    {
      "cell_type": "code",
      "source": [
        "#show the dataframe\n",
        "indexed.orderBy(rand()).show()"
      ],
      "metadata": {
        "colab": {
          "base_uri": "https://localhost:8080/"
        },
        "id": "TgUlfd6Omfqa",
        "outputId": "e2ca82ac-77b0-42e0-b444-6eb48c4a7858"
      },
      "execution_count": 19,
      "outputs": [
        {
          "output_type": "stream",
          "name": "stdout",
          "text": [
            "+----+---------+-----------+----------+------+----------+----+--------+-----------+\n",
            "| MPG|Cylinders|Engine Disp|Horsepower|Weight|Accelerate|Year|  Origin|OriginIndex|\n",
            "+----+---------+-----------+----------+------+----------+----+--------+-----------+\n",
            "|18.0|        6|      250.0|        88|  3021|      16.5|  73|American|        0.0|\n",
            "|11.0|        8|      350.0|       180|  3664|      11.0|  73|American|        0.0|\n",
            "|25.5|        4|      140.0|        89|  2755|      15.8|  77|American|        0.0|\n",
            "|33.5|        4|       85.0|        70|  1945|      16.8|  77|Japanese|        1.0|\n",
            "|15.0|        8|      429.0|       198|  4341|      10.0|  70|American|        0.0|\n",
            "|28.0|        4|      112.0|        88|  2605|      19.6|  82|American|        0.0|\n",
            "|20.0|        6|      198.0|        95|  3102|      16.5|  74|American|        0.0|\n",
            "|28.0|        4|       97.0|        92|  2288|      17.0|  72|Japanese|        1.0|\n",
            "|23.7|        3|       70.0|       100|  2420|      12.5|  80|Japanese|        1.0|\n",
            "|18.1|        6|      258.0|       120|  3410|      15.1|  78|American|        0.0|\n",
            "|30.5|        4|       98.0|        63|  2051|      17.0|  77|American|        0.0|\n",
            "|23.8|        4|      151.0|        85|  2855|      17.6|  78|American|        0.0|\n",
            "|27.2|        4|      141.0|        71|  3190|      24.8|  79|European|        2.0|\n",
            "|26.0|        4|       97.0|        46|  1835|      20.5|  70|European|        2.0|\n",
            "|24.0|        4|      113.0|        95|  2372|      15.0|  70|Japanese|        1.0|\n",
            "|19.9|        8|      260.0|       110|  3365|      15.5|  78|American|        0.0|\n",
            "|19.0|        4|      120.0|        88|  3270|      21.9|  76|European|        2.0|\n",
            "|35.1|        4|       81.0|        60|  1760|      16.1|  81|Japanese|        1.0|\n",
            "|30.0|        4|      146.0|        67|  3250|      21.8|  80|European|        2.0|\n",
            "|32.1|        4|       98.0|        70|  2120|      15.5|  80|American|        0.0|\n",
            "+----+---------+-----------+----------+------+----------+----+--------+-----------+\n",
            "only showing top 20 rows\n",
            "\n"
          ]
        }
      ]
    },
    {
      "cell_type": "code",
      "source": [],
      "metadata": {
        "id": "fxTqlVHDmfs3"
      },
      "execution_count": null,
      "outputs": []
    },
    {
      "cell_type": "markdown",
      "source": [
        "# Exercise 4 - StandardScaler\n",
        "Create a single column named \"feaures\" using the columns \"Cylinders\", \"Engine Disp\", \"Horsepower\", \"Weight\""
      ],
      "metadata": {
        "id": "KwMpSSuSnhVu"
      }
    },
    {
      "cell_type": "code",
      "source": [
        "from pyspark.ml.feature import VectorAssembler\n",
        "assembler = VectorAssembler(inputCols=[\"Cylinders\", \"Engine Disp\", \"Horsepower\", \"Weight\"], outputCol=\"features\")\n",
        "\n",
        "mpg_transformed_data = assembler.transform(mpgdata)\n",
        "\n",
        "#show the dataframe\n",
        "mpg_transformed_data.select(\"MPG\",\"features\").show(truncate = False)"
      ],
      "metadata": {
        "colab": {
          "base_uri": "https://localhost:8080/"
        },
        "id": "fwWoJqShnhv5",
        "outputId": "35a7c762-8dcb-48f3-b6d1-1f014b22c1cd"
      },
      "execution_count": 20,
      "outputs": [
        {
          "output_type": "stream",
          "name": "stdout",
          "text": [
            "+----+------------------------+\n",
            "|MPG |features                |\n",
            "+----+------------------------+\n",
            "|15.0|[8.0,390.0,190.0,3850.0]|\n",
            "|21.0|[6.0,199.0,90.0,2648.0] |\n",
            "|18.0|[6.0,199.0,97.0,2774.0] |\n",
            "|16.0|[8.0,304.0,150.0,3433.0]|\n",
            "|14.0|[8.0,455.0,225.0,3086.0]|\n",
            "|15.0|[8.0,350.0,165.0,3693.0]|\n",
            "|18.0|[8.0,307.0,130.0,3504.0]|\n",
            "|14.0|[8.0,454.0,220.0,4354.0]|\n",
            "|15.0|[8.0,400.0,150.0,3761.0]|\n",
            "|10.0|[8.0,307.0,200.0,4376.0]|\n",
            "|15.0|[8.0,383.0,170.0,3563.0]|\n",
            "|11.0|[8.0,318.0,210.0,4382.0]|\n",
            "|10.0|[8.0,360.0,215.0,4615.0]|\n",
            "|15.0|[8.0,429.0,198.0,4341.0]|\n",
            "|21.0|[6.0,200.0,85.0,2587.0] |\n",
            "|17.0|[8.0,302.0,140.0,3449.0]|\n",
            "|9.0 |[8.0,304.0,193.0,4732.0]|\n",
            "|14.0|[8.0,340.0,160.0,3609.0]|\n",
            "|22.0|[6.0,198.0,95.0,2833.0] |\n",
            "|14.0|[8.0,440.0,215.0,4312.0]|\n",
            "+----+------------------------+\n",
            "only showing top 20 rows\n",
            "\n"
          ]
        }
      ]
    },
    {
      "cell_type": "markdown",
      "source": [
        "Use StandardScaler to scale the \"features\" column of the dataframe \"mpg_transformed_data\" and save the scaled data into the \"scaledFeatures\" column."
      ],
      "metadata": {
        "id": "k15I37cknp0E"
      }
    },
    {
      "cell_type": "code",
      "source": [
        "from pyspark.ml.feature import StandardScaler\n",
        "\n",
        "scaler = StandardScaler(inputCol=\"features\", outputCol=\"scaledFeatures\", withStd=True, withMean=True)\n",
        "\n",
        "scalerModel = scaler.fit(mpg_transformed_data)\n",
        "\n",
        "scaledData = scalerModel.transform(mpg_transformed_data)"
      ],
      "metadata": {
        "id": "Q2P8PSEunq-a"
      },
      "execution_count": 21,
      "outputs": []
    },
    {
      "cell_type": "code",
      "source": [
        "# Show the scaled data\n",
        "scaledData.select(\"features\",\"scaledFeatures\").show(truncate = False)"
      ],
      "metadata": {
        "colab": {
          "base_uri": "https://localhost:8080/"
        },
        "id": "fRSeeN5EnrAp",
        "outputId": "c3ac5dc3-7d18-4c0f-b815-801eb080832b"
      },
      "execution_count": 22,
      "outputs": [
        {
          "output_type": "stream",
          "name": "stdout",
          "text": [
            "+------------------------+-----------------------------------------------------------------------------------+\n",
            "|features                |scaledFeatures                                                                     |\n",
            "+------------------------+-----------------------------------------------------------------------------------+\n",
            "|[8.0,390.0,190.0,3850.0]|[1.48205302652896,1.869079955831451,2.222084561602166,1.027093462353608]           |\n",
            "|[6.0,199.0,90.0,2648.0] |[0.3095711165403583,0.043843985634147174,-0.37591456792553746,-0.38801882543985255]|\n",
            "|[6.0,199.0,97.0,2774.0] |[0.3095711165403583,0.043843985634147174,-0.1940546288585982,-0.2396792678175763]  |\n",
            "|[8.0,304.0,150.0,3433.0]|[1.48205302652896,1.0472459587792617,1.1828849097910845,0.5361601645084557]        |\n",
            "|[8.0,455.0,225.0,3086.0]|[1.48205302652896,2.4902335582546176,3.131384256936862,0.12763773200901246]        |\n",
            "|[8.0,350.0,165.0,3693.0]|[1.48205302652896,1.4868315851095026,1.57258477922024,0.8422576643639463]          |\n",
            "|[8.0,307.0,130.0,3504.0]|[1.48205302652896,1.0759145865834079,0.6632850838855439,0.619748327930532]         |\n",
            "|[8.0,454.0,220.0,4354.0]|[1.48205302652896,2.480677348986569,3.001484300460477,1.6204516928427128]          |\n",
            "|[8.0,400.0,150.0,3761.0]|[1.48205302652896,1.964642048511938,1.1828849097910845,0.9223139335569208]         |\n",
            "|[8.0,307.0,200.0,4376.0]|[1.48205302652896,1.0759145865834079,2.481884474554936,1.646352250522793]          |\n",
            "|[8.0,383.0,170.0,3563.0]|[1.48205302652896,1.80218649095511,1.7024847356966253,0.689208914436201]           |\n",
            "|[8.0,318.0,210.0,4382.0]|[1.48205302652896,1.1810328885319439,2.7416843875077066,1.6534160389809966]        |\n",
            "|[8.0,360.0,215.0,4615.0]|[1.48205302652896,1.5823936777899896,2.871584343984092,1.9277264907745708]         |\n",
            "|[8.0,429.0,198.0,4341.0]|[1.48205302652896,2.241772117285351,2.4299244919643823,1.6051468178499384]         |\n",
            "|[6.0,200.0,85.0,2587.0] |[0.3095711165403583,0.053400194902195885,-0.5058145244019226,-0.4598340080982561]  |\n",
            "|[8.0,302.0,140.0,3449.0]|[1.48205302652896,1.0281335402431644,0.9230849968383142,0.5549969337303321]        |\n",
            "|[8.0,304.0,193.0,4732.0]|[1.48205302652896,1.0472459587792617,2.300024535487997,2.0654703657095417]         |\n",
            "|[8.0,340.0,160.0,3609.0]|[1.48205302652896,1.3912694924290154,1.442684822743855,0.7433646259490956]         |\n",
            "|[6.0,198.0,95.0,2833.0] |[0.3095711165403583,0.03428777636609846,-0.24601461144915227,-0.17021868131190726] |\n",
            "|[8.0,440.0,215.0,4312.0]|[1.48205302652896,2.3468904192338864,2.871584343984092,1.5710051736352875]         |\n",
            "+------------------------+-----------------------------------------------------------------------------------+\n",
            "only showing top 20 rows\n",
            "\n"
          ]
        }
      ]
    },
    {
      "cell_type": "markdown",
      "source": [
        "# Stop Spark Session\n"
      ],
      "metadata": {
        "id": "Dj9tuwy3n_xJ"
      }
    },
    {
      "cell_type": "code",
      "source": [
        "spark.stop()"
      ],
      "metadata": {
        "id": "-e4mjIgwnrC_"
      },
      "execution_count": 23,
      "outputs": []
    },
    {
      "cell_type": "code",
      "source": [],
      "metadata": {
        "id": "9gRtv3AcnrFa"
      },
      "execution_count": null,
      "outputs": []
    },
    {
      "cell_type": "code",
      "source": [],
      "metadata": {
        "id": "5qa6oNUhnrHv"
      },
      "execution_count": null,
      "outputs": []
    }
  ]
}